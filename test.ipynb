{
 "cells": [
  {
   "cell_type": "code",
   "execution_count": null,
   "metadata": {},
   "outputs": [],
   "source": [
    "from aiida.manage import load_profile\n",
    "from aiida.orm import *\n",
    "from aiida_aurora.utils.cycling_analysis import cycling_analysis"
   ]
  },
  {
   "cell_type": "code",
   "execution_count": null,
   "metadata": {},
   "outputs": [],
   "source": [
    "load_profile()"
   ]
  },
  {
   "cell_type": "code",
   "execution_count": null,
   "metadata": {},
   "outputs": [],
   "source": [
    "\n",
    "qb = QueryBuilder()\n",
    "\n",
    "qb.append(\n",
    "    Group,\n",
    "    filters={\n",
    "        \"label\": \"Migrated\",\n",
    "    },\n",
    "    tag=\"group\",\n",
    ").append(\n",
    "    CalcJobNode,\n",
    "    with_group=\"group\",\n",
    "    filters={\n",
    "        \"extras.monitored\": True,\n",
    "    },\n",
    ")\n",
    "\n",
    "for calcjob in qb.all(flat=True):\n",
    "    print(calcjob.pk, calcjob.exit_status)"
   ]
  },
  {
   "cell_type": "code",
   "execution_count": null,
   "metadata": {},
   "outputs": [],
   "source": [
    "job = load_node(5692)\n",
    "job.get_outgoing().all_link_labels()\n",
    "data, analysis = cycling_analysis(job)\n",
    "print(analysis)"
   ]
  },
  {
   "cell_type": "code",
   "execution_count": null,
   "metadata": {},
   "outputs": [],
   "source": []
  }
 ],
 "metadata": {
  "kernelspec": {
   "display_name": "base",
   "language": "python",
   "name": "python3"
  },
  "language_info": {
   "codemirror_mode": {
    "name": "ipython",
    "version": 3
   },
   "file_extension": ".py",
   "mimetype": "text/x-python",
   "name": "python",
   "nbconvert_exporter": "python",
   "pygments_lexer": "ipython3",
   "version": "3.9.13"
  },
  "orig_nbformat": 4
 },
 "nbformat": 4,
 "nbformat_minor": 2
}
